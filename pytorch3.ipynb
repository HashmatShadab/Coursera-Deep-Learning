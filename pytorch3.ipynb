{
 "cells": [
  {
   "cell_type": "code",
   "execution_count": 8,
   "metadata": {},
   "outputs": [],
   "source": [
    "import torch\n",
    "from torch.autograd import Variable\n"
   ]
  },
  {
   "cell_type": "code",
   "execution_count": 9,
   "metadata": {},
   "outputs": [],
   "source": [
    "x_data = [1,2,3]\n",
    "y_data = [2,4,6]"
   ]
  },
  {
   "cell_type": "code",
   "execution_count": 10,
   "metadata": {},
   "outputs": [
    {
     "name": "stdout",
     "output_type": "stream",
     "text": [
      "tensor([1.], requires_grad=True)\n"
     ]
    }
   ],
   "source": [
    "w = Variable(torch.Tensor([1]), requires_grad = True)\n",
    "print(w)"
   ]
  },
  {
   "cell_type": "code",
   "execution_count": 11,
   "metadata": {},
   "outputs": [],
   "source": [
    "def forward(x):\n",
    "    return x*w"
   ]
  },
  {
   "cell_type": "code",
   "execution_count": 12,
   "metadata": {},
   "outputs": [],
   "source": [
    "def loss(x,y):\n",
    "    y_pred = forward(x)\n",
    "    return (y_pred-y)*(y_pred - y)"
   ]
  },
  {
   "cell_type": "code",
   "execution_count": 13,
   "metadata": {},
   "outputs": [
    {
     "name": "stdout",
     "output_type": "stream",
     "text": [
      "\t grad:  1 2 tensor(-2.)\n",
      "\t grad:  2 4 tensor(-7.8400)\n",
      "\t grad:  3 6 tensor(-16.2288)\n",
      "\t grad:  1 2 tensor(-1.4786)\n",
      "\t grad:  2 4 tensor(-5.7962)\n",
      "\t grad:  3 6 tensor(-11.9981)\n",
      "\t grad:  1 2 tensor(-1.0932)\n",
      "\t grad:  2 4 tensor(-4.2852)\n",
      "\t grad:  3 6 tensor(-8.8704)\n",
      "\t grad:  1 2 tensor(-0.8082)\n",
      "\t grad:  2 4 tensor(-3.1681)\n",
      "\t grad:  3 6 tensor(-6.5580)\n",
      "\t grad:  1 2 tensor(-0.5975)\n",
      "\t grad:  2 4 tensor(-2.3422)\n",
      "\t grad:  3 6 tensor(-4.8484)\n",
      "\t grad:  1 2 tensor(-0.4417)\n",
      "\t grad:  2 4 tensor(-1.7316)\n",
      "\t grad:  3 6 tensor(-3.5845)\n",
      "\t grad:  1 2 tensor(-0.3266)\n",
      "\t grad:  2 4 tensor(-1.2802)\n",
      "\t grad:  3 6 tensor(-2.6500)\n",
      "\t grad:  1 2 tensor(-0.2414)\n",
      "\t grad:  2 4 tensor(-0.9465)\n",
      "\t grad:  3 6 tensor(-1.9592)\n",
      "\t grad:  1 2 tensor(-0.1785)\n",
      "\t grad:  2 4 tensor(-0.6997)\n",
      "\t grad:  3 6 tensor(-1.4485)\n",
      "\t grad:  1 2 tensor(-0.1320)\n",
      "\t grad:  2 4 tensor(-0.5173)\n",
      "\t grad:  3 6 tensor(-1.0709)\n"
     ]
    }
   ],
   "source": [
    "for epoch in range(10):\n",
    "    for x_val,y_val in zip(x_data,y_data):\n",
    "        l= loss(x_val,y_val)\n",
    "        l.backward()\n",
    "        print(\"\\t grad: \", x_val, y_val, w.grad.data[0])\n",
    "        w.data = w.data - 0.01*w.grad.data\n",
    "        # Manually zero the gradients after updating the weights\n",
    "        w.grad.data.zero_()\n",
    "        "
   ]
  },
  {
   "cell_type": "code",
   "execution_count": 14,
   "metadata": {},
   "outputs": [
    {
     "name": "stdout",
     "output_type": "stream",
     "text": [
      "tensor([1.9512], requires_grad=True)\n"
     ]
    }
   ],
   "source": [
    "print(w)"
   ]
  },
  {
   "cell_type": "code",
   "execution_count": null,
   "metadata": {},
   "outputs": [],
   "source": []
  },
  {
   "cell_type": "code",
   "execution_count": null,
   "metadata": {},
   "outputs": [],
   "source": []
  }
 ],
 "metadata": {
  "kernelspec": {
   "display_name": "Python 3",
   "language": "python",
   "name": "python3"
  },
  "language_info": {
   "codemirror_mode": {
    "name": "ipython",
    "version": 3
   },
   "file_extension": ".py",
   "mimetype": "text/x-python",
   "name": "python",
   "nbconvert_exporter": "python",
   "pygments_lexer": "ipython3",
   "version": "3.5.2"
  }
 },
 "nbformat": 4,
 "nbformat_minor": 2
}
