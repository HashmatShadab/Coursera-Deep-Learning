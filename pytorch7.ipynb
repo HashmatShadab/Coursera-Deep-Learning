{
 "cells": [
  {
   "cell_type": "code",
   "execution_count": 1,
   "metadata": {},
   "outputs": [],
   "source": [
    "import torch\n",
    "from torch.autograd import Variable\n",
    "import torch.nn.functional as F\n",
    "import numpy as np\n",
    "import pandas as pd\n",
    "from torch.utils.data import Dataset, DataLoader"
   ]
  },
  {
   "cell_type": "code",
   "execution_count": 2,
   "metadata": {},
   "outputs": [],
   "source": [
    "class DiabetesDataset(Dataset):\n",
    "    def __init__(self):\n",
    "        dataset = np.loadtxt('pima-indians-diabetes.csv',delimiter=',',skiprows=1, dtype=np.float32)\n",
    "        self.len = dataset.shape[0]\n",
    "        self.x_data = torch.from_numpy(dataset[:,0:-1])\n",
    "        self.y_data = torch.from_numpy(dataset[:,[-1]])\n",
    "       \n",
    "    def __getitem__(self,index):\n",
    "        return self.x_data[index], self.y_data[index]\n",
    "    \n",
    "    def __len__(self):\n",
    "        return self.len\n",
    "    \n",
    "    \n",
    "        \n",
    "        "
   ]
  },
  {
   "cell_type": "code",
   "execution_count": 3,
   "metadata": {},
   "outputs": [],
   "source": [
    "dataset = DiabetesDataset()\n",
    "train_loader = DataLoader(dataset = dataset, batch_size=32, shuffle = True, num_workers = 2)"
   ]
  },
  {
   "cell_type": "code",
   "execution_count": 4,
   "metadata": {},
   "outputs": [],
   "source": [
    "class Model(torch.nn.Module):\n",
    "    def __init__(self):\n",
    "        super(Model,self).__init__()\n",
    "        self.l1 = torch.nn.Linear(8,6)\n",
    "        self.l2 = torch.nn.Linear(6,4)\n",
    "        self.l3 = torch.nn.Linear(4,1)\n",
    "        \n",
    "        self.sigmoid = torch.nn.Sigmoid()\n",
    "       \n",
    "    def forward(self,x):\n",
    "        out1 = self.sigmoid(self.l1(x))\n",
    "        out2 = self.sigmoid(self.l2(out1))\n",
    "        y_pred = self.sigmoid(self.l3(out2))\n",
    "        return y_pred\n",
    "    "
   ]
  },
  {
   "cell_type": "code",
   "execution_count": 5,
   "metadata": {},
   "outputs": [],
   "source": [
    "model = Model()"
   ]
  },
  {
   "cell_type": "code",
   "execution_count": 6,
   "metadata": {},
   "outputs": [
    {
     "name": "stderr",
     "output_type": "stream",
     "text": [
      "/usr/local/lib/python3.5/dist-packages/torch/nn/functional.py:52: UserWarning: size_average and reduce args will be deprecated, please use reduction='elementwise_mean' instead.\n",
      "  warnings.warn(warning.format(ret))\n"
     ]
    }
   ],
   "source": [
    "criterion = torch.nn.BCELoss(size_average=True)\n",
    "optimizer = torch.optim.SGD(model.parameters(), lr=0.1)"
   ]
  },
  {
   "cell_type": "code",
   "execution_count": 7,
   "metadata": {},
   "outputs": [
    {
     "name": "stdout",
     "output_type": "stream",
     "text": [
      "0 0 0.7045981884002686\n",
      "0 1 0.7193316221237183\n",
      "0 2 0.7078652381896973\n",
      "0 3 0.7063623070716858\n",
      "0 4 0.6952534914016724\n",
      "0 5 0.6924039721488953\n",
      "0 6 0.6920063495635986\n",
      "0 7 0.6834682822227478\n",
      "0 8 0.6798334121704102\n",
      "0 9 0.6721879839897156\n",
      "0 10 0.6773332953453064\n",
      "0 11 0.6715636849403381\n",
      "0 12 0.6548013091087341\n",
      "0 13 0.6692010760307312\n",
      "0 14 0.6547077894210815\n",
      "0 15 0.6279827356338501\n",
      "0 16 0.7125338912010193\n",
      "0 17 0.6664618849754333\n",
      "0 18 0.668086588382721\n",
      "0 19 0.6645622849464417\n",
      "0 20 0.6356390118598938\n",
      "0 21 0.654477059841156\n",
      "0 22 0.6630784273147583\n",
      "0 23 0.6418249011039734\n",
      "1 0 0.6879725456237793\n",
      "1 1 0.675183117389679\n",
      "1 2 0.6606913805007935\n",
      "1 3 0.6389116048812866\n",
      "1 4 0.6488432884216309\n",
      "1 5 0.5978959202766418\n",
      "1 6 0.6474493145942688\n",
      "1 7 0.6008973717689514\n",
      "1 8 0.6012206077575684\n",
      "1 9 0.6621220707893372\n",
      "1 10 0.7078380584716797\n",
      "1 11 0.7208472490310669\n",
      "1 12 0.6165229082107544\n",
      "1 13 0.6933153867721558\n",
      "1 14 0.6892954111099243\n",
      "1 15 0.5880939960479736\n",
      "1 16 0.6755983233451843\n",
      "1 17 0.6287139654159546\n",
      "1 18 0.6142328381538391\n",
      "1 19 0.6097579002380371\n",
      "1 20 0.6609258651733398\n",
      "1 21 0.6096641421318054\n",
      "1 22 0.6975172758102417\n",
      "1 23 0.6416423916816711\n"
     ]
    }
   ],
   "source": [
    "for epoch in range(2):\n",
    "    for i,data in enumerate(train_loader,0):\n",
    "        inputs, labels = data\n",
    "        \n",
    "        inputs, labels = Variable(inputs), Variable(labels)\n",
    "        \n",
    "        y_pred = model(inputs)\n",
    "        loss = criterion(y_pred, labels)\n",
    "        print(epoch, i , loss.item())\n",
    "        \n",
    "        optimizer.zero_grad()\n",
    "        loss.backward()\n",
    "        optimizer.step()\n",
    "        "
   ]
  },
  {
   "cell_type": "code",
   "execution_count": null,
   "metadata": {},
   "outputs": [],
   "source": []
  }
 ],
 "metadata": {
  "kernelspec": {
   "display_name": "Python 3",
   "language": "python",
   "name": "python3"
  },
  "language_info": {
   "codemirror_mode": {
    "name": "ipython",
    "version": 3
   },
   "file_extension": ".py",
   "mimetype": "text/x-python",
   "name": "python",
   "nbconvert_exporter": "python",
   "pygments_lexer": "ipython3",
   "version": "3.5.2"
  }
 },
 "nbformat": 4,
 "nbformat_minor": 2
}
