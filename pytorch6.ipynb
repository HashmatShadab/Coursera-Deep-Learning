{
 "cells": [
  {
   "cell_type": "code",
   "execution_count": 71,
   "metadata": {},
   "outputs": [],
   "source": [
    "import torch\n",
    "from torch.autograd import Variable\n",
    "import torch.nn.functional as F\n",
    "import numpy as np\n",
    "import pandas as pd\n",
    "from torch.utils.data import Dataset, DataLoader"
   ]
  },
  {
   "cell_type": "code",
   "execution_count": 74,
   "metadata": {},
   "outputs": [
    {
     "data": {
      "text/plain": [
       "\"class DiabetesDataset(Dataset):\\n    def __init__(self):\\n        dataset = np.loadtxt('pima-indians-diabetes.csv',delimiter=',',skiprows=1, dtype=np.float32)\\n        self.len = dataset.shape[0]\\n        self.x_data = torch.from_numpy(dataset[:,0:-1])\\n        self.y_data = torch.from_numpy(dataset[:,[-1]])\\n       \\n    def __getitem__(self,index):\\n        return self.x_data[index], self.y_data[index]\\n    \\n    def __len__(self):\\n        return self.len\\n    \\n    \""
      ]
     },
     "execution_count": 74,
     "metadata": {},
     "output_type": "execute_result"
    }
   ],
   "source": [
    "\"\"\"class DiabetesDataset(Dataset):\n",
    "    def __init__(self):\n",
    "        dataset = np.loadtxt('pima-indians-diabetes.csv',delimiter=',',skiprows=1, dtype=np.float32)\n",
    "        self.len = dataset.shape[0]\n",
    "        self.x_data = torch.from_numpy(dataset[:,0:-1])\n",
    "        self.y_data = torch.from_numpy(dataset[:,[-1]])\n",
    "       \n",
    "    def __getitem__(self,index):\n",
    "        return self.x_data[index], self.y_data[index]\n",
    "    \n",
    "    def __len__(self):\n",
    "        return self.len\n",
    "    \n",
    "    \"\"\"\n",
    "        \n",
    "        "
   ]
  },
  {
   "cell_type": "code",
   "execution_count": 76,
   "metadata": {},
   "outputs": [
    {
     "data": {
      "text/plain": [
       "numpy.ndarray"
      ]
     },
     "execution_count": 76,
     "metadata": {},
     "output_type": "execute_result"
    }
   ],
   "source": [
    " #Importing the dataset\n",
    "dataset = np.loadtxt('pima-indians-diabetes.csv',delimiter=',',skiprows=1, dtype=np.float32)\n",
    "type(dataset)\n"
   ]
  },
  {
   "cell_type": "code",
   "execution_count": 77,
   "metadata": {},
   "outputs": [],
   "source": [
    "x_data = Variable(torch.from_numpy(dataset[:, :-1]))\n",
    "y_data = Variable(torch.from_numpy(dataset[:,[-1]]))"
   ]
  },
  {
   "cell_type": "code",
   "execution_count": 78,
   "metadata": {},
   "outputs": [],
   "source": [
    "class Model(torch.nn.Module):\n",
    "    def __init__(self):\n",
    "        super(Model,self).__init__()\n",
    "        self.l1 = torch.nn.Linear(8,6)\n",
    "        self.l2 = torch.nn.Linear(6,4)\n",
    "        self.l3 = torch.nn.Linear(4,1)\n",
    "        \n",
    "        self.sigmoid = torch.nn.Sigmoid()\n",
    "       \n",
    "    def forward(self,x):\n",
    "        out1 = self.sigmoid(self.l1(x))\n",
    "        out2 = self.sigmoid(self.l2(out1))\n",
    "        y_pred = self.sigmoid(self.l3(out2))\n",
    "        return y_pred\n",
    "    "
   ]
  },
  {
   "cell_type": "code",
   "execution_count": 79,
   "metadata": {},
   "outputs": [],
   "source": [
    "model = Model()"
   ]
  },
  {
   "cell_type": "code",
   "execution_count": 80,
   "metadata": {},
   "outputs": [
    {
     "name": "stderr",
     "output_type": "stream",
     "text": [
      "/usr/local/lib/python3.5/dist-packages/torch/nn/functional.py:52: UserWarning: size_average and reduce args will be deprecated, please use reduction='elementwise_mean' instead.\n",
      "  warnings.warn(warning.format(ret))\n"
     ]
    }
   ],
   "source": [
    "criterion = torch.nn.BCELoss(size_average=True)\n",
    "optimizer = torch.optim.SGD(model.parameters(), lr=0.1)"
   ]
  },
  {
   "cell_type": "code",
   "execution_count": 81,
   "metadata": {},
   "outputs": [
    {
     "name": "stdout",
     "output_type": "stream",
     "text": [
      "0 0.8102831840515137\n",
      "1 0.7925577163696289\n",
      "2 0.7768047451972961\n",
      "3 0.762768030166626\n",
      "4 0.7504293918609619\n",
      "5 0.7396706938743591\n",
      "6 0.7301748394966125\n",
      "7 0.7217257618904114\n",
      "8 0.7141831517219543\n",
      "9 0.7074417471885681\n",
      "10 0.7014102339744568\n",
      "11 0.6960091590881348\n",
      "12 0.6911756992340088\n",
      "13 0.6868640780448914\n",
      "14 0.6830213069915771\n",
      "15 0.6795955300331116\n",
      "16 0.6765329837799072\n",
      "17 0.6737883687019348\n",
      "18 0.6713197231292725\n",
      "19 0.6690965294837952\n",
      "20 0.6670923829078674\n",
      "21 0.6652824282646179\n",
      "22 0.6636477112770081\n",
      "23 0.6621683239936829\n",
      "24 0.6608284115791321\n",
      "25 0.6596140265464783\n",
      "26 0.6585156917572021\n",
      "27 0.6575192213058472\n",
      "28 0.6566131711006165\n",
      "29 0.6557918787002563\n",
      "30 0.655045211315155\n",
      "31 0.6543667912483215\n",
      "32 0.6537512540817261\n",
      "33 0.6531900763511658\n",
      "34 0.6526791453361511\n",
      "35 0.6522139310836792\n",
      "36 0.6517900824546814\n",
      "37 0.6514058709144592\n",
      "38 0.6510539650917053\n",
      "39 0.6507324576377869\n",
      "40 0.6504369378089905\n",
      "41 0.6501708626747131\n",
      "42 0.6499267816543579\n",
      "43 0.649701714515686\n",
      "44 0.6494966745376587\n",
      "45 0.649310827255249\n",
      "46 0.6491392850875854\n",
      "47 0.6489822864532471\n",
      "48 0.6488375663757324\n",
      "49 0.6487048268318176\n",
      "50 0.6485838294029236\n",
      "51 0.6484729051589966\n",
      "52 0.6483692526817322\n",
      "53 0.6482766270637512\n",
      "54 0.6481888294219971\n",
      "55 0.6481088995933533\n",
      "56 0.6480344533920288\n",
      "57 0.6479670405387878\n",
      "58 0.6479052901268005\n",
      "59 0.6478469371795654\n",
      "60 0.6477929353713989\n",
      "61 0.6477445960044861\n",
      "62 0.6476998925209045\n",
      "63 0.6476566791534424\n",
      "64 0.647618293762207\n",
      "65 0.6475836634635925\n",
      "66 0.6475504040718079\n",
      "67 0.6475197672843933\n",
      "68 0.6474917531013489\n",
      "69 0.6474675536155701\n",
      "70 0.6474420428276062\n",
      "71 0.6474193930625916\n",
      "72 0.6473975777626038\n",
      "73 0.6473788619041443\n",
      "74 0.6473609209060669\n",
      "75 0.6473440527915955\n",
      "76 0.6473274827003479\n",
      "77 0.6473127007484436\n",
      "78 0.6472973823547363\n",
      "79 0.6472852826118469\n",
      "80 0.6472732424736023\n",
      "81 0.6472613215446472\n",
      "82 0.6472486853599548\n",
      "83 0.6472371220588684\n",
      "84 0.6472286581993103\n",
      "85 0.6472184658050537\n",
      "86 0.6472070217132568\n",
      "87 0.6471970677375793\n",
      "88 0.6471877694129944\n",
      "89 0.6471796631813049\n",
      "90 0.6471688151359558\n",
      "91 0.6471588015556335\n",
      "92 0.647150456905365\n",
      "93 0.6471417546272278\n",
      "94 0.6471331715583801\n",
      "95 0.6471245884895325\n",
      "96 0.6471173763275146\n",
      "97 0.6471054553985596\n",
      "98 0.647098958492279\n",
      "99 0.6470877528190613\n"
     ]
    }
   ],
   "source": [
    "for epoch in range(100):\n",
    "    y_pred = model(x_data)\n",
    "    loss = criterion(y_pred, y_data)\n",
    "    print(epoch, loss.item())\n",
    "    \n",
    "    optimizer.zero_grad()\n",
    "    loss.backward()\n",
    "    optimizer.step()"
   ]
  },
  {
   "cell_type": "code",
   "execution_count": null,
   "metadata": {},
   "outputs": [],
   "source": []
  },
  {
   "cell_type": "code",
   "execution_count": null,
   "metadata": {},
   "outputs": [],
   "source": []
  }
 ],
 "metadata": {
  "kernelspec": {
   "display_name": "Python 3",
   "language": "python",
   "name": "python3"
  },
  "language_info": {
   "codemirror_mode": {
    "name": "ipython",
    "version": 3
   },
   "file_extension": ".py",
   "mimetype": "text/x-python",
   "name": "python",
   "nbconvert_exporter": "python",
   "pygments_lexer": "ipython3",
   "version": "3.5.2"
  }
 },
 "nbformat": 4,
 "nbformat_minor": 2
}
